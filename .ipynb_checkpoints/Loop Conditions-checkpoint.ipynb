{
 "cells": [
  {
   "cell_type": "code",
   "execution_count": 3,
   "id": "5c2f5f4e",
   "metadata": {},
   "outputs": [
    {
     "name": "stdout",
     "output_type": "stream",
     "text": [
      "Nhập độ dài các cạnh của hình vuông: 12\n"
     ]
    }
   ],
   "source": [
    "import turtle\n",
    "\n",
    "a = int(input(\"Nhập độ dài các cạnh của hình vuông: \"))\n",
    "\n",
    "t = turtle.Turtle()\n",
    "t.hideturtle()\n",
    "t.pencolor(\"red\")\n",
    "edge = 0\n",
    "while edge < 4:\n",
    "    # Vẽ 1 cạnh của hình vuông\n",
    "    t.forward(a)\n",
    "    t.right(90)\n",
    "    # Câu lệnh này đặt trong vòng lặp while\n",
    "    # số lần lặp là 4, nên được hình vuông yêu cầu\n",
    "    edge += 1\n",
    "turtle.done()"
   ]
  },
  {
   "cell_type": "code",
   "execution_count": 6,
   "id": "283c5424",
   "metadata": {},
   "outputs": [],
   "source": [
    "# Import thư viện đồ họa turtle\n",
    "import turtle\n",
    "# Import thư viện sinh số ngẫu nhiên\n",
    "import random as r\n",
    "\n",
    "# khởi tạo turtle\n",
    "t = turtle.Turtle()\n",
    "t.shape(\"turtle\")\n",
    "# Ẩn hình ảnh rùa\n",
    "t.hideturtle()\n",
    "t.pensize(3)\n",
    "t.color(\"blue\")\n",
    "t.speed(1)\n",
    "t.penup()\n",
    "# Đặt vị trí ban đầu của con rùa sang bên trái\n",
    "# so với vị trí giữa màn hình 400 pixel\n",
    "# Mục đích để rùa chạy không ra khỏi màn hình\n",
    "# khi vòng lặp quá lớn\n",
    "t.goto(-400, 0)\n",
    "# Hiển thị hình ảnh con rùa\n",
    "t.showturtle()\n",
    "\n",
    "count = 0\n",
    "while count < 10:\n",
    "    # sinh hai giá trị ngẫu nhiên\n",
    "    down = r.randint(20, 50)\n",
    "    up = r.randint(20, 50)\n",
    "    t.pendown()\n",
    "    # rùa tiến về phía trước với giá trị ngẫu\n",
    "    # nhiên ở trên, có để lại nét vẽ\n",
    "    t.forward(down)\n",
    "    t.penup()\n",
    "    # rùa tiến về phía trước với giá trị ngẫu\n",
    "    # nhiên ở trên, không để lại nét vẽ\n",
    "    t.forward(up)\n",
    "    count += 1\n",
    "turtle.done()"
   ]
  },
  {
   "cell_type": "code",
   "execution_count": null,
   "id": "d4d47319",
   "metadata": {},
   "outputs": [],
   "source": [
    "import turtle\n",
    "\n",
    "a = turtle.Turtle()\n",
    "\n",
    "R = float(input(\"Enter the value of R: \"))\n",
    "\n",
    "distance = 0\n",
    "increment = 1\n",
    "\n",
    "while distance <= R:\n",
    "    a.forward(5 + increment)\n",
    "    a.right(15)\n",
    "    increment += 1\n",
    "    distance = a.distance(0,0)\n",
    "    print(f\"distance {distance}\")\n",
    "\n",
    "turtle.done()"
   ]
  },
  {
   "cell_type": "code",
   "execution_count": null,
   "id": "c7545497",
   "metadata": {},
   "outputs": [],
   "source": []
  },
  {
   "cell_type": "code",
   "execution_count": null,
   "id": "a022d5cd",
   "metadata": {},
   "outputs": [],
   "source": []
  }
 ],
 "metadata": {
  "kernelspec": {
   "display_name": "Python 3 (ipykernel)",
   "language": "python",
   "name": "python3"
  },
  "language_info": {
   "codemirror_mode": {
    "name": "ipython",
    "version": 3
   },
   "file_extension": ".py",
   "mimetype": "text/x-python",
   "name": "python",
   "nbconvert_exporter": "python",
   "pygments_lexer": "ipython3",
   "version": "3.11.4"
  }
 },
 "nbformat": 4,
 "nbformat_minor": 5
}
