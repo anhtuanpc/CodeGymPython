{
 "cells": [
  {
   "cell_type": "code",
   "execution_count": 6,
   "id": "26d54c1c",
   "metadata": {},
   "outputs": [
    {
     "name": "stdout",
     "output_type": "stream",
     "text": [
      "Odd\n",
      "Odd\n"
     ]
    }
   ],
   "source": [
    "num_check = 3\n",
    "\n",
    "# USING TERNARY OPERATOR\n",
    "msg = \"Even\" if num_check % 2 == 0 else \"Odd\"\n",
    "print(msg)\n",
    "\n",
    "# USING USUAL IF-ELSE\n",
    "msg = \"\"\n",
    "if(num_check % 2  == 0):\n",
    "    msg = \"Even\"\n",
    "else:\n",
    "    msg = \"Odd\"\n",
    "print(msg)"
   ]
  },
  {
   "cell_type": "code",
   "execution_count": 7,
   "id": "424a17fe",
   "metadata": {},
   "outputs": [
    {
     "name": "stdout",
     "output_type": "stream",
     "text": [
      "123\n",
      "số lẻ\n"
     ]
    }
   ],
   "source": [
    "a = input()\n",
    "a = float(a)\n",
    "if a % 2 == 0:\n",
    "    print('số chẵn')\n",
    "elif a % 2 == 1:\n",
    "    print('số lẻ')\n",
    "else:\n",
    "    print('không phải số tự nhiên')"
   ]
  },
  {
   "cell_type": "code",
   "execution_count": 12,
   "id": "f2841445",
   "metadata": {},
   "outputs": [
    {
     "name": "stdout",
     "output_type": "stream",
     "text": [
      "Moi nhap so a: 1.5\n",
      "Invalid value of a\n",
      "1.5\n"
     ]
    }
   ],
   "source": [
    "a = input(\"Moi nhap so a: \")\n",
    "try:\n",
    "    int_a = int(a)\n",
    "    print_date(int_a)\n",
    "except ValueError as err:\n",
    "    print(\"Invalid value of a\")\n",
    "\n",
    "def print_date(date):\n",
    "    if date == 1:\n",
    "        print(\"Monday\")\n",
    "    elif date == 2:\n",
    "        print(\"Tuesday\")\n",
    "    elif date == 3:\n",
    "        print(\"Wednesday\")\n",
    "    elif date == 4:\n",
    "        print(\"Thursday\")\n",
    "    elif date == 5:\n",
    "        print(\"Friday\")\n",
    "    elif date == 6:\n",
    "        print(\"Saturday\")\n",
    "    elif date == 7:\n",
    "        print(\"Sunday\")\n",
    "    else:\n",
    "        print(\"error, out of range\")"
   ]
  }
 ],
 "metadata": {
  "kernelspec": {
   "display_name": "Python 3 (ipykernel)",
   "language": "python",
   "name": "python3"
  },
  "language_info": {
   "codemirror_mode": {
    "name": "ipython",
    "version": 3
   },
   "file_extension": ".py",
   "mimetype": "text/x-python",
   "name": "python",
   "nbconvert_exporter": "python",
   "pygments_lexer": "ipython3",
   "version": "3.11.4"
  }
 },
 "nbformat": 4,
 "nbformat_minor": 5
}
