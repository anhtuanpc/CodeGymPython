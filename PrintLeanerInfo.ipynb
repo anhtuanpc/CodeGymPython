{
 "cells": [
  {
   "cell_type": "code",
   "execution_count": 1,
   "id": "bd1a5739",
   "metadata": {},
   "outputs": [
    {
     "name": "stdout",
     "output_type": "stream",
     "text": [
      "My name is Dao Anh Tuan\n",
      "DOB: 14/10/1998\n",
      "Address: Me Tri Thuong street, Nam Tu Liem district, Ha Noi capital\n",
      "Hopefully the course designed by Codegym lectureres can help me so much on the road to become a Data Engineer\n"
     ]
    }
   ],
   "source": [
    "print('My name is Dao Anh Tuan')\n",
    "print(\"DOB: 14/10/1998\")\n",
    "print(\"Address: Me Tri Thuong street, Nam Tu Liem district, Ha Noi capital\")\n",
    "print(\"Hopefully the course designed by Codegym lectureres can help me so much on the road to become a Data Engineer\")"
   ]
  },
  {
   "cell_type": "code",
   "execution_count": null,
   "id": "af559f16",
   "metadata": {},
   "outputs": [],
   "source": []
  }
 ],
 "metadata": {
  "kernelspec": {
   "display_name": "Python 3 (ipykernel)",
   "language": "python",
   "name": "python3"
  },
  "language_info": {
   "codemirror_mode": {
    "name": "ipython",
    "version": 3
   },
   "file_extension": ".py",
   "mimetype": "text/x-python",
   "name": "python",
   "nbconvert_exporter": "python",
   "pygments_lexer": "ipython3",
   "version": "3.11.3"
  }
 },
 "nbformat": 4,
 "nbformat_minor": 5
}
