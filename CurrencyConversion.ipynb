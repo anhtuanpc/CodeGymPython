{
 "cells": [
  {
   "cell_type": "code",
   "execution_count": null,
   "id": "c717b983",
   "metadata": {},
   "outputs": [
    {
     "name": "stdout",
     "output_type": "stream",
     "text": [
      "Enter the amount of USD: 2\n"
     ]
    }
   ],
   "source": [
    "usd_amount = float(input(\"Enter the amount of USD: \"))\n",
    "\n",
    "usd_proportion, vnd_proportion = [float(x) for x in input(\"Enter the USD and VND proportion: \").split()]\n",
    "\n",
    "vnd_output = usd_amount / usd_proportion * vnd_proportion\n",
    "\n",
    "print(f\"{usd_amount} USD is equivalent to {vnd_output} VND\")"
   ]
  },
  {
   "cell_type": "code",
   "execution_count": null,
   "id": "d1859f5f",
   "metadata": {},
   "outputs": [],
   "source": []
  },
  {
   "cell_type": "code",
   "execution_count": null,
   "id": "a9a87c08",
   "metadata": {},
   "outputs": [],
   "source": []
  },
  {
   "cell_type": "code",
   "execution_count": null,
   "id": "53e1c60b",
   "metadata": {},
   "outputs": [],
   "source": []
  },
  {
   "cell_type": "code",
   "execution_count": null,
   "id": "8c977612",
   "metadata": {},
   "outputs": [],
   "source": []
  }
 ],
 "metadata": {
  "kernelspec": {
   "display_name": "Python 3 (ipykernel)",
   "language": "python",
   "name": "python3"
  },
  "language_info": {
   "codemirror_mode": {
    "name": "ipython",
    "version": 3
   },
   "file_extension": ".py",
   "mimetype": "text/x-python",
   "name": "python",
   "nbconvert_exporter": "python",
   "pygments_lexer": "ipython3",
   "version": "3.11.4"
  }
 },
 "nbformat": 4,
 "nbformat_minor": 5
}
