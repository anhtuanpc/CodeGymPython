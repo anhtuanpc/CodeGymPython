{
 "cells": [
  {
   "cell_type": "code",
   "execution_count": 6,
   "id": "c4cb95e9",
   "metadata": {},
   "outputs": [
    {
     "name": "stdout",
     "output_type": "stream",
     "text": [
      "Odd\n",
      "Odd\n"
     ]
    }
   ],
   "source": [
    "num_check = 3\n",
    "\n",
    "# USING TERNARY OPERATOR\n",
    "msg = \"Even\" if num_check % 2 == 0 else \"Odd\"\n",
    "print(msg)\n",
    "\n",
    "# USING USUAL IF-ELSE\n",
    "msg = \"\"\n",
    "if(num_check % 2  == 0):\n",
    "    msg = \"Even\"\n",
    "else:\n",
    "    msg = \"Odd\"\n",
    "print(msg)"
   ]
  },
  {
   "cell_type": "code",
   "execution_count": 7,
   "id": "c2fbdbc2",
   "metadata": {},
   "outputs": [
    {
     "name": "stdout",
     "output_type": "stream",
     "text": [
      "123\n",
      "số lẻ\n"
     ]
    }
   ],
   "source": [
    "a = input()\n",
    "a = float(a)\n",
    "if a % 2 == 0:\n",
    "    print('số chẵn')\n",
    "elif a % 2 == 1:\n",
    "    print('số lẻ')\n",
    "else:\n",
    "    print('không phải số tự nhiên')"
   ]
  },
  {
   "cell_type": "code",
   "execution_count": 17,
   "id": "8d27b122",
   "metadata": {},
   "outputs": [
    {
     "name": "stdout",
     "output_type": "stream",
     "text": [
      "Moi nhap so a: 1\n",
      "Monday\n"
     ]
    }
   ],
   "source": [
    "a = input(\"Moi nhap so a: \")\n",
    "\n",
    "def print_date(date):\n",
    "    if date == 1:\n",
    "        print(\"Monday\")\n",
    "    elif date == 2:\n",
    "        print(\"Tuesday\")\n",
    "    elif date == 3:\n",
    "        print(\"Wednesday\")\n",
    "    elif date == 4:\n",
    "        print(\"Thursday\")\n",
    "    elif date == 5:\n",
    "        print(\"Friday\")\n",
    "    elif date == 6:\n",
    "        print(\"Saturday\")\n",
    "    elif date == 7:\n",
    "        print(\"Sunday\")\n",
    "    else:\n",
    "        print(\"error, out of range\")\n",
    "\n",
    "try:\n",
    "    int_a = int(a)\n",
    "    print_date(int_a)\n",
    "except ValueError as err:\n",
    "    print(\"Invalid value of a\")"
   ]
  },
  {
   "cell_type": "code",
   "execution_count": 18,
   "id": "3c0f5c54",
   "metadata": {},
   "outputs": [
    {
     "name": "stdout",
     "output_type": "stream",
     "text": [
      "Please enter the amount of dollars: 1250\n",
      "The amount of dollars need to pay: 1200.0\n"
     ]
    }
   ],
   "source": [
    "invoice_bill = float(input(\"Please enter the amount of dollars: \"))\n",
    "\n",
    "payment_amount = invoice_bill\n",
    "\n",
    "if invoice_bill >= 150:\n",
    "    payment_amount -= 50\n",
    "elif invoice_bill >= 100:\n",
    "    payment_amount -= 25\n",
    "elif invoice_bill >= 75:\n",
    "    payment_amount -= 15\n",
    "\n",
    "print(f\"The amount of dollars need to pay: {payment_amount}\")"
   ]
  },
  {
   "cell_type": "code",
   "execution_count": 20,
   "id": "16c8dbb9",
   "metadata": {},
   "outputs": [
    {
     "name": "stdout",
     "output_type": "stream",
     "text": [
      "Input BMI: 1\n",
      "Thin level III\n"
     ]
    }
   ],
   "source": [
    "BMI = float(input(\"Input BMI: \"))\n",
    "if BMI > 40:\n",
    "    print(\"Obesity level III\")\n",
    "elif BMI >= 35:\n",
    "    print(\"Obesity level II\")\n",
    "elif BMI >= 30:\n",
    "    print(\"Obesity level I\")\n",
    "elif BMI >= 25:\n",
    "    print(\"Little overweight\")\n",
    "elif BMI >= 18.5:\n",
    "    print(\"Normal\")\n",
    "elif BMI >= 17:\n",
    "    print(\"Thin level I\")\n",
    "elif BMI >= 16:\n",
    "    print(\"Thin level II\")\n",
    "else:\n",
    "    print(\"Thin level III\")"
   ]
  },
  {
   "cell_type": "code",
   "execution_count": null,
   "id": "095e4b69",
   "metadata": {},
   "outputs": [],
   "source": []
  },
  {
   "cell_type": "code",
   "execution_count": null,
   "id": "8a4c5390",
   "metadata": {},
   "outputs": [],
   "source": []
  }
 ],
 "metadata": {
  "kernelspec": {
   "display_name": "Python 3 (ipykernel)",
   "language": "python",
   "name": "python3"
  },
  "language_info": {
   "codemirror_mode": {
    "name": "ipython",
    "version": 3
   },
   "file_extension": ".py",
   "mimetype": "text/x-python",
   "name": "python",
   "nbconvert_exporter": "python",
   "pygments_lexer": "ipython3",
   "version": "3.11.4"
  }
 },
 "nbformat": 4,
 "nbformat_minor": 5
}
